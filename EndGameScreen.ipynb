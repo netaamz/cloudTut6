{
  "nbformat": 4,
  "nbformat_minor": 0,
  "metadata": {
    "colab": {
      "provenance": [],
      "authorship_tag": "ABX9TyOIgklHPJ1e+/OBcZeVNJLp",
      "include_colab_link": true
    },
    "kernelspec": {
      "name": "python3",
      "display_name": "Python 3"
    },
    "language_info": {
      "name": "python"
    }
  },
  "cells": [
    {
      "cell_type": "markdown",
      "metadata": {
        "id": "view-in-github",
        "colab_type": "text"
      },
      "source": [
        "<a href=\"https://colab.research.google.com/github/netaamz/cloudTut6/blob/MaxAndRotem/EndGameScreen.ipynb\" target=\"_parent\"><img src=\"https://colab.research.google.com/assets/colab-badge.svg\" alt=\"Open In Colab\"/></a>"
      ]
    },
    {
      "cell_type": "markdown",
      "source": [
        "Installing firebase, to use it as the database for the game"
      ],
      "metadata": {
        "id": "7LsUBzhst1j_"
      }
    },
    {
      "cell_type": "code",
      "execution_count": 1,
      "metadata": {
        "colab": {
          "base_uri": "https://localhost:8080/"
        },
        "id": "MbhxOgiKHhYm",
        "outputId": "30e2a5af-295a-4bd9-db6c-8e533e2137c0"
      },
      "outputs": [
        {
          "output_type": "stream",
          "name": "stdout",
          "text": [
            "Looking in indexes: https://pypi.org/simple, https://us-python.pkg.dev/colab-wheels/public/simple/\n",
            "Collecting firebase\n",
            "  Downloading firebase-4.0.1-py3-none-any.whl (12 kB)\n",
            "Requirement already satisfied: requests in /usr/local/lib/python3.10/dist-packages (from firebase) (2.27.1)\n",
            "Requirement already satisfied: urllib3<1.27,>=1.21.1 in /usr/local/lib/python3.10/dist-packages (from requests->firebase) (1.26.15)\n",
            "Requirement already satisfied: certifi>=2017.4.17 in /usr/local/lib/python3.10/dist-packages (from requests->firebase) (2022.12.7)\n",
            "Requirement already satisfied: charset-normalizer~=2.0.0 in /usr/local/lib/python3.10/dist-packages (from requests->firebase) (2.0.12)\n",
            "Requirement already satisfied: idna<4,>=2.5 in /usr/local/lib/python3.10/dist-packages (from requests->firebase) (3.4)\n",
            "Installing collected packages: firebase\n",
            "Successfully installed firebase-4.0.1\n"
          ]
        }
      ],
      "source": [
        "!pip install firebase"
      ]
    },
    {
      "cell_type": "markdown",
      "source": [
        "Connecting to the firebase database"
      ],
      "metadata": {
        "id": "c1Xuz3Unt75y"
      }
    },
    {
      "cell_type": "code",
      "source": [
        "from firebase import firebase\n",
        "\n",
        "# Initialize Firebase Realtime Database reference object\n",
        "FBconn = firebase.FirebaseApplication('https://cloudex06-default-rtdb.firebaseio.com/', None)\n"
      ],
      "metadata": {
        "id": "UAn752SFJkX1"
      },
      "execution_count": 2,
      "outputs": []
    },
    {
      "cell_type": "markdown",
      "source": [
        "CSS style for the HTML code"
      ],
      "metadata": {
        "id": "8THUaSPnuB1o"
      }
    },
    {
      "cell_type": "code",
      "source": [
        "tableCSS = \"border-collapse: collapse; width: 50%; text-align: center; margin: 20px auto; border-radius: 10px; overflow: hidden; box-shadow: 0 0 20px rgba(0, 0, 0, 0.15);\"\n",
        "bodyCSS = \"background-color: black; font-family: Arial, sans-serif; font-size: 1rem; line-height: 1.5; margin: 0; padding: 0;\"\n",
        "h1CSS = \"color: black; font-size: 2.5rem; margin-bottom: 1em; text-align: center; font-weight: bold;\"\n",
        "buttonCSS = \"background-color: #4CAF50; border: none; color: white; padding: 15px 32px; text-align: center; text-decoration: none; display: block; font-size: 16px; margin: 20px auto; cursor: pointer;\"\n",
        "trCSS = \"background-color: #4CAF50; color: black; padding: 10px 20px; text-align:center;\"\n",
        "tdCSS = \"border-bottom: 1px solid #ddd; padding: 10px 20px; width: auto; font-size:18px; text-align:center; color:white;\"\n",
        "tabCSS = \"display: inline-block; background-color: #f1f1f1; border: none; outline: none; cursor: pointer; padding: 14px 16px; transition: 0.3s; font-size: 17px; display:flex;\"\n",
        "tab_containerCSS = \"display: flex;justify-content: center; gap:3px;\"\n",
        "tabContentCSS = \"display: none; padding: 6px 12px; border-top: none; animation: fadeEffect 1s;\"\n",
        "\n",
        "tabActiveCSS = \"background-color: #ccc;\"\n",
        "\n",
        "fadeEffectCSS = \"@keyframes fadeEffect {from {opacity: 0;}to {opacity: 1;}}\"\n",
        "\n",
        "container = \"margin: 0 auto; max-width: 800px; padding: 20px;\"\n",
        "    \n"
      ],
      "metadata": {
        "id": "NBtfW82ct8Xv"
      },
      "execution_count": 3,
      "outputs": []
    },
    {
      "cell_type": "markdown",
      "source": [
        "JavaScript function"
      ],
      "metadata": {
        "id": "aTvbvHnxuFW1"
      }
    },
    {
      "cell_type": "code",
      "source": [
        "tabFunctions = '''\n",
        "    <script>\n",
        "        function openTab(evt, tabName) {\n",
        "            var i, tabcontent, tablinks;\n",
        "            tabcontent = document.getElementsByClassName(\"tabcontent\");\n",
        "            for (i = 0; i < tabcontent.length; i++) {\n",
        "                tabcontent[i].style.display = \"none\";\n",
        "            }\n",
        "            tablinks = document.getElementsByClassName(\"tablinks\");\n",
        "            for (i = 0; i < tablinks.length; i++) {\n",
        "                tablinks[i].style.backgroundColor = \"\";\n",
        "            }\n",
        "            document.getElementById(tabName).style.display = \"block\";\n",
        "            evt.currentTarget.style.backgroundColor = \"#ccc\";\n",
        "        }\n",
        "    </script>\n",
        "'''"
      ],
      "metadata": {
        "id": "ID_GxNQXT-aZ"
      },
      "execution_count": 4,
      "outputs": []
    },
    {
      "cell_type": "code",
      "source": [
        "import IPython\n",
        "\n",
        "number_of_users = len(FBconn.get('/users/', None))\n",
        "\n",
        "userTempJustForTest = \"Sarah Miller\"\n",
        "\n",
        "list_of_scores = {}\n",
        "for i in range(number_of_users):\n",
        "    score = FBconn.get('/users/', '/' + str(i) + '/total_score')\n",
        "    username = FBconn.get('/users/', '/' + str(i) + '/name')\n",
        "    list_of_scores.update({username:score})\n",
        "\n",
        "sorted_list_of_scores = dict(reversed(sorted(list_of_scores.items(), key=lambda item: item[1])))\n",
        "\n",
        "\n",
        "for i in range(number_of_users):\n",
        "  result = FBconn.get('/users/'+ str(i), None)\n",
        "  if result['name'] == userTempJustForTest:\n",
        "    index = i\n",
        "    break\n",
        "\n",
        "\n",
        "number_of_answered_questions = len(FBconn.get('/users/'+ str(index) +'/history/', None))\n",
        "list_of_history = {}\n",
        "for i in range (number_of_answered_questions):\n",
        "    question_id = FBconn.get('/users/', '/' + str(index) + '/history/' + str(i) + '/question_id')\n",
        "    is_correct = FBconn.get('/users/', '/' + str(index) + '/history/' + str(i) + '/is_correct')\n",
        "    list_of_history.update({question_id:is_correct})\n",
        "\n",
        "\n",
        "\n",
        "# Generate the HTML code for the table\n",
        "table_html = '<table style=\"{}\">\\n'.format(tableCSS)\n",
        "table_html += '<tr style=\"{}\">\\n<th>Rank</th>\\n<th>Name</th>\\n<th>Score</th>\\n</tr>\\n'.format(trCSS)\n",
        "for i, user in enumerate(sorted_list_of_scores.items()):\n",
        "    table_html += '<tr style=\"{}\">\\n<td style=\"{}\">{}</td>\\n<td style=\"{}\">{}</td>\\n<td style=\"{}\">{}</td>\\n</tr>\\n'.format(trCSS,tdCSS,i+1,tdCSS, user[0],tdCSS, user[1])\n",
        "table_html += '</table>'\n",
        "\n",
        "# Generate the HTML code for the table\n",
        "table_html2 = '<table style=\"{}\">\\n'.format(tableCSS)\n",
        "table_html2 += '<tr style=\"{}\">\\n<th>Question Number</th>\\n<th>Answered</th>\\n</tr>\\n'.format(trCSS)\n",
        "for i, history in enumerate(list_of_history.items()):\n",
        "    table_html2 += '<tr style=\"{}\">\\n<td style=\"{}\">{}</td>\\n<td style=\"{}\">{}</td>\\n</tr>\\n'.format(trCSS,tdCSS,history[0],tdCSS, history[1])\n",
        "table_html2 += '</table>'\n",
        "\n",
        "\n",
        "html_code = '''\n",
        "<!DOCTYPE html>\n",
        "<html>\n",
        "<head>\n",
        "    <title>End Game</title>\n",
        "    <style>\n",
        "        .tab {''' + tabCSS + '''}\n",
        "        .tabcontent {''' + tabContentCSS + '''}\n",
        "        .tab:hover {''' + tabActiveCSS + '''}\n",
        "        .tab-container {'''+tab_containerCSS+'''}\n",
        "        @keyframes fadeEffect {''' + fadeEffectCSS + '''}\n",
        "        .container{''' + container + '''}\n",
        "    </style>\n",
        "    ''' + tabFunctions + '''\n",
        "</head>\n",
        "<body style=\"{}\">\n",
        "   <div class=\"container\">\n",
        "    <h1 style=\"{}\">End Game</h1>\n",
        "    <div class=\"tab-container\">\n",
        "        <button class=\"tab\" onclick=\"openTab(event, 'Table1')\">Leaderboard</button>\n",
        "        <button class=\"tab\" onclick=\"openTab(event, 'Table2')\">My History</button>\n",
        "    </div>\n",
        "    <div id=\"Table1\" class=\"tabcontent\" style=\"display:block;\">\n",
        "        {}\n",
        "    </div>\n",
        "    <div id=\"Table2\" class=\"tabcontent\">\n",
        "        {}\n",
        "    </div>\n",
        "    <button style=\"{}\" onmouseover=\"this.style.backgroundColor='#3e8e41'\" onmouseout=\"this.style.backgroundColor='#4CAF50'\" onclick=\"window.location.href='index.html'\">Play Again</button>\n",
        "    </div>\n",
        "</body>\n",
        "</html>\n",
        "'''.format(bodyCSS, h1CSS, table_html, table_html2, buttonCSS)\n",
        "\n",
        "\n",
        "\n",
        "\n",
        "display(IPython.display.HTML(html_code))"
      ],
      "metadata": {
        "colab": {
          "base_uri": "https://localhost:8080/",
          "height": 598
        },
        "outputId": "c1da3b62-e49b-4db2-cc3e-21db4b2ab7ab",
        "id": "qplCo_1DTZSC"
      },
      "execution_count": 7,
      "outputs": [
        {
          "output_type": "display_data",
          "data": {
            "text/plain": [
              "<IPython.core.display.HTML object>"
            ],
            "text/html": [
              "\n",
              "<!DOCTYPE html>\n",
              "<html>\n",
              "<head>\n",
              "    <title>End Game</title>\n",
              "    <style>\n",
              "        .tab {display: inline-block; background-color: #f1f1f1; border: none; outline: none; cursor: pointer; padding: 14px 16px; transition: 0.3s; font-size: 17px; display:flex;}\n",
              "        .tabcontent {display: none; padding: 6px 12px; border-top: none; animation: fadeEffect 1s;}\n",
              "        .tab:hover {background-color: #ccc;}\n",
              "        .tab-container {display: flex;justify-content: center; gap:3px;}\n",
              "        @keyframes fadeEffect {@keyframes fadeEffect {from {opacity: 0;}to {opacity: 1;}}}\n",
              "        .container{margin: 0 auto; max-width: 800px; padding: 20px;}\n",
              "    </style>\n",
              "    \n",
              "    <script>\n",
              "        function openTab(evt, tabName) {\n",
              "            var i, tabcontent, tablinks;\n",
              "            tabcontent = document.getElementsByClassName(\"tabcontent\");\n",
              "            for (i = 0; i < tabcontent.length; i++) {\n",
              "                tabcontent[i].style.display = \"none\";\n",
              "            }\n",
              "            tablinks = document.getElementsByClassName(\"tablinks\");\n",
              "            for (i = 0; i < tablinks.length; i++) {\n",
              "                tablinks[i].style.backgroundColor = \"\";\n",
              "            }\n",
              "            document.getElementById(tabName).style.display = \"block\";\n",
              "            evt.currentTarget.style.backgroundColor = \"#ccc\";\n",
              "        }\n",
              "    </script>\n",
              "\n",
              "</head>\n",
              "<body style=\"background-color: black; font-family: Arial, sans-serif; font-size: 1rem; line-height: 1.5; margin: 0; padding: 0;\">\n",
              "   <div class=\"container\">\n",
              "    <h1 style=\"color: black; font-size: 2.5rem; margin-bottom: 1em; text-align: center; font-weight: bold;\">End Game</h1>\n",
              "    <div class=\"tab-container\">\n",
              "        <button class=\"tab\" onclick=\"openTab(event, 'Table1')\">Leaderboard</button>\n",
              "        <button class=\"tab\" onclick=\"openTab(event, 'Table2')\">My History</button>\n",
              "    </div>\n",
              "    <div id=\"Table1\" class=\"tabcontent\" style=\"display:block;\">\n",
              "        <table style=\"border-collapse: collapse; width: 50%; text-align: center; margin: 20px auto; border-radius: 10px; overflow: hidden; box-shadow: 0 0 20px rgba(0, 0, 0, 0.15);\">\n",
              "<tr style=\"background-color: #4CAF50; color: black; padding: 10px 20px; text-align:center;\">\n",
              "<th>Rank</th>\n",
              "<th>Name</th>\n",
              "<th>Score</th>\n",
              "</tr>\n",
              "<tr style=\"background-color: #4CAF50; color: black; padding: 10px 20px; text-align:center;\">\n",
              "<td style=\"border-bottom: 1px solid #ddd; padding: 10px 20px; width: auto; font-size:18px; text-align:center; color:white;\">1</td>\n",
              "<td style=\"border-bottom: 1px solid #ddd; padding: 10px 20px; width: auto; font-size:18px; text-align:center; color:white;\">Rachel Levy</td>\n",
              "<td style=\"border-bottom: 1px solid #ddd; padding: 10px 20px; width: auto; font-size:18px; text-align:center; color:white;\">90</td>\n",
              "</tr>\n",
              "<tr style=\"background-color: #4CAF50; color: black; padding: 10px 20px; text-align:center;\">\n",
              "<td style=\"border-bottom: 1px solid #ddd; padding: 10px 20px; width: auto; font-size:18px; text-align:center; color:white;\">2</td>\n",
              "<td style=\"border-bottom: 1px solid #ddd; padding: 10px 20px; width: auto; font-size:18px; text-align:center; color:white;\">Sarah Miller</td>\n",
              "<td style=\"border-bottom: 1px solid #ddd; padding: 10px 20px; width: auto; font-size:18px; text-align:center; color:white;\">85</td>\n",
              "</tr>\n",
              "<tr style=\"background-color: #4CAF50; color: black; padding: 10px 20px; text-align:center;\">\n",
              "<td style=\"border-bottom: 1px solid #ddd; padding: 10px 20px; width: auto; font-size:18px; text-align:center; color:white;\">3</td>\n",
              "<td style=\"border-bottom: 1px solid #ddd; padding: 10px 20px; width: auto; font-size:18px; text-align:center; color:white;\">David Cohen</td>\n",
              "<td style=\"border-bottom: 1px solid #ddd; padding: 10px 20px; width: auto; font-size:18px; text-align:center; color:white;\">75</td>\n",
              "</tr>\n",
              "<tr style=\"background-color: #4CAF50; color: black; padding: 10px 20px; text-align:center;\">\n",
              "<td style=\"border-bottom: 1px solid #ddd; padding: 10px 20px; width: auto; font-size:18px; text-align:center; color:white;\">4</td>\n",
              "<td style=\"border-bottom: 1px solid #ddd; padding: 10px 20px; width: auto; font-size:18px; text-align:center; color:white;\">Daniel Goldstein</td>\n",
              "<td style=\"border-bottom: 1px solid #ddd; padding: 10px 20px; width: auto; font-size:18px; text-align:center; color:white;\">65</td>\n",
              "</tr>\n",
              "</table>\n",
              "    </div>\n",
              "    <div id=\"Table2\" class=\"tabcontent\">\n",
              "        <table style=\"border-collapse: collapse; width: 50%; text-align: center; margin: 20px auto; border-radius: 10px; overflow: hidden; box-shadow: 0 0 20px rgba(0, 0, 0, 0.15);\">\n",
              "<tr style=\"background-color: #4CAF50; color: black; padding: 10px 20px; text-align:center;\">\n",
              "<th>Question Number</th>\n",
              "<th>Answered</th>\n",
              "</tr>\n",
              "<tr style=\"background-color: #4CAF50; color: black; padding: 10px 20px; text-align:center;\">\n",
              "<td style=\"border-bottom: 1px solid #ddd; padding: 10px 20px; width: auto; font-size:18px; text-align:center; color:white;\">question1</td>\n",
              "<td style=\"border-bottom: 1px solid #ddd; padding: 10px 20px; width: auto; font-size:18px; text-align:center; color:white;\">True</td>\n",
              "</tr>\n",
              "<tr style=\"background-color: #4CAF50; color: black; padding: 10px 20px; text-align:center;\">\n",
              "<td style=\"border-bottom: 1px solid #ddd; padding: 10px 20px; width: auto; font-size:18px; text-align:center; color:white;\">question3</td>\n",
              "<td style=\"border-bottom: 1px solid #ddd; padding: 10px 20px; width: auto; font-size:18px; text-align:center; color:white;\">True</td>\n",
              "</tr>\n",
              "<tr style=\"background-color: #4CAF50; color: black; padding: 10px 20px; text-align:center;\">\n",
              "<td style=\"border-bottom: 1px solid #ddd; padding: 10px 20px; width: auto; font-size:18px; text-align:center; color:white;\">question4</td>\n",
              "<td style=\"border-bottom: 1px solid #ddd; padding: 10px 20px; width: auto; font-size:18px; text-align:center; color:white;\">True</td>\n",
              "</tr>\n",
              "<tr style=\"background-color: #4CAF50; color: black; padding: 10px 20px; text-align:center;\">\n",
              "<td style=\"border-bottom: 1px solid #ddd; padding: 10px 20px; width: auto; font-size:18px; text-align:center; color:white;\">question5</td>\n",
              "<td style=\"border-bottom: 1px solid #ddd; padding: 10px 20px; width: auto; font-size:18px; text-align:center; color:white;\">False</td>\n",
              "</tr>\n",
              "<tr style=\"background-color: #4CAF50; color: black; padding: 10px 20px; text-align:center;\">\n",
              "<td style=\"border-bottom: 1px solid #ddd; padding: 10px 20px; width: auto; font-size:18px; text-align:center; color:white;\">question9</td>\n",
              "<td style=\"border-bottom: 1px solid #ddd; padding: 10px 20px; width: auto; font-size:18px; text-align:center; color:white;\">True</td>\n",
              "</tr>\n",
              "</table>\n",
              "    </div>\n",
              "    <button style=\"background-color: #4CAF50; border: none; color: white; padding: 15px 32px; text-align: center; text-decoration: none; display: block; font-size: 16px; margin: 20px auto; cursor: pointer;\" onmouseover=\"this.style.backgroundColor='#3e8e41'\" onmouseout=\"this.style.backgroundColor='#4CAF50'\" onclick=\"window.location.href='index.html'\">Play Again</button>\n",
              "    </div>\n",
              "</body>\n",
              "</html>\n"
            ]
          },
          "metadata": {}
        }
      ]
    },
    {
      "cell_type": "code",
      "source": [],
      "metadata": {
        "id": "nx3BzbO5ymTs"
      },
      "execution_count": 5,
      "outputs": []
    },
    {
      "cell_type": "code",
      "source": [],
      "metadata": {
        "id": "sunKcWcvUVZw"
      },
      "execution_count": 5,
      "outputs": []
    }
  ]
}