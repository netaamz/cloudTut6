{
  "nbformat": 4,
  "nbformat_minor": 0,
  "metadata": {
    "colab": {
      "provenance": [],
      "include_colab_link": true
    },
    "kernelspec": {
      "name": "python3",
      "display_name": "Python 3"
    },
    "language_info": {
      "name": "python"
    }
  },
  "cells": [
    {
      "cell_type": "markdown",
      "metadata": {
        "id": "view-in-github",
        "colab_type": "text"
      },
      "source": [
        "<a href=\"https://colab.research.google.com/github/netaamz/cloudTut6/blob/MaxAndRotem/EndGameScreen.ipynb\" target=\"_parent\"><img src=\"https://colab.research.google.com/assets/colab-badge.svg\" alt=\"Open In Colab\"/></a>"
      ]
    },
    {
      "cell_type": "markdown",
      "source": [
        "Installing firebase, to use it as the database for the game"
      ],
      "metadata": {
        "id": "7LsUBzhst1j_"
      }
    },
    {
      "cell_type": "code",
      "execution_count": 1,
      "metadata": {
        "colab": {
          "base_uri": "https://localhost:8080/"
        },
        "id": "MbhxOgiKHhYm",
        "outputId": "b890472c-c393-450c-dc76-0d2ab6cdab92"
      },
      "outputs": [
        {
          "output_type": "stream",
          "name": "stdout",
          "text": [
            "Looking in indexes: https://pypi.org/simple, https://us-python.pkg.dev/colab-wheels/public/simple/\n",
            "Collecting firebase\n",
            "  Downloading firebase-4.0.1-py3-none-any.whl (12 kB)\n",
            "Requirement already satisfied: requests in /usr/local/lib/python3.10/dist-packages (from firebase) (2.27.1)\n",
            "Requirement already satisfied: urllib3<1.27,>=1.21.1 in /usr/local/lib/python3.10/dist-packages (from requests->firebase) (1.26.15)\n",
            "Requirement already satisfied: certifi>=2017.4.17 in /usr/local/lib/python3.10/dist-packages (from requests->firebase) (2022.12.7)\n",
            "Requirement already satisfied: charset-normalizer~=2.0.0 in /usr/local/lib/python3.10/dist-packages (from requests->firebase) (2.0.12)\n",
            "Requirement already satisfied: idna<4,>=2.5 in /usr/local/lib/python3.10/dist-packages (from requests->firebase) (3.4)\n",
            "Installing collected packages: firebase\n",
            "Successfully installed firebase-4.0.1\n"
          ]
        }
      ],
      "source": [
        "!pip install firebase"
      ]
    },
    {
      "cell_type": "markdown",
      "source": [
        "Connecting to the firebase database"
      ],
      "metadata": {
        "id": "c1Xuz3Unt75y"
      }
    },
    {
      "cell_type": "code",
      "source": [
        "from firebase import firebase\n",
        "\n",
        "# Initialize Firebase Realtime Database reference object\n",
        "FBconn = firebase.FirebaseApplication('https://cloudex06-default-rtdb.firebaseio.com/', None)\n"
      ],
      "metadata": {
        "id": "UAn752SFJkX1"
      },
      "execution_count": 2,
      "outputs": []
    },
    {
      "cell_type": "markdown",
      "source": [
        "CSS style for the HTML code"
      ],
      "metadata": {
        "id": "8THUaSPnuB1o"
      }
    },
    {
      "cell_type": "code",
      "source": [
        "tableCSS = \"border-collapse: collapse;width: 50%;text-align: center;margin: 20px auto;border-radius: 10px;overflow: hidden;box-shadow: 0 0 20px rgba(0, 0, 0, 0.15);background-color: #2F2F2F;\"\n",
        "bodyCSS = \"background-color: url(https://w0.peakpx.com/wallpaper/5/430/HD-wallpaper-video-game-eastward-sky-cloud.jpg);font-family: Arial, sans-serif;font-size: 1rem;line-height: 1.5;margin: 0;padding: 0;background-size: cover\"\n",
        "h1CSS = \"color: #FFFFFF;font-size: 2.5rem;margin-bottom: 1em;text-align: center;font-weight: bold; letter-spacing: 3px;\"\n",
        "buttonCSS = \"background-color: #4CAF50;border: none;color: white;padding: 15px 32px;text-align: center;text-decoration: none;display: block;font-size: 16px;margin: 20px auto;cursor: pointer;\"\n",
        "trCSS = \"background-color: #4CAF50;color: black;padding: 10px 20px;text-align: center;\"\n",
        "tdCSS = \"border-bottom: 1px solid #ddd; padding: 10px 20px; width: auto; font-size:18px; text-align:center; color:white;\"\n",
        "tabCSS = \"display: inline-block; background-color: #f1f1f1; border: none; outline: none; cursor: pointer; padding: 14px 16px; transition: 0.3s; font-size: 17px; display:flex;\"\n",
        "tab_containerCSS = \"display: flex;justify-content: center; gap:3px;\"\n",
        "tabContentCSS = \"display: none; padding: 6px 12px; border-top: none; animation: fadeEffect 1s;\"\n",
        "\n",
        "tabActiveCSS = \"background-color: #ccc;\"\n",
        "fadeEffectCSS = \"@keyframes fadeEffect {from {opacity: 0;}to {opacity: 1;}}\"\n",
        "\n",
        "container = \"margin: 0 auto; max-width: 800px; padding: 20px;\"\n",
        "\n",
        "\n"
      ],
      "metadata": {
        "id": "NBtfW82ct8Xv"
      },
      "execution_count": 33,
      "outputs": []
    },
    {
      "cell_type": "markdown",
      "source": [
        "JavaScript function"
      ],
      "metadata": {
        "id": "aTvbvHnxuFW1"
      }
    },
    {
      "cell_type": "code",
      "source": [
        "tabFunctions = '''\n",
        "    <script>\n",
        "        function openTab(evt, tabName) {\n",
        "  // Declare all variables\n",
        "  var i, tabcontent, tablinks;\n",
        "\n",
        "  // Get all elements with class=\"tabcontent\" and hide them\n",
        "  tabcontent = document.getElementsByClassName(\"tabcontent\");\n",
        "  for (i = 0; i < tabcontent.length; i++) {\n",
        "    tabcontent[i].style.display = \"none\";\n",
        "  }\n",
        "\n",
        "  // Get all elements with class=\"tab\" and remove the class \"active\"\n",
        "  tablinks = document.getElementsByClassName(\"tab\");\n",
        "  for (i = 0; i < tablinks.length; i++) {\n",
        "    tablinks[i].className = tablinks[i].className.replace(\" active\", \"\");\n",
        "    tablinks[i].style.backgroundColor = \"#f1f1f1\"; // Reset the background color for all tab buttons\n",
        "  }\n",
        "\n",
        "  // Show the current tab, and add an \"active\" class to the button that opened the tab\n",
        "  document.getElementById(tabName).style.display = \"block\";\n",
        "  evt.currentTarget.className += \" active\";\n",
        "  evt.currentTarget.style.backgroundColor = \"#ccc\"; // Set the background color for the active tab button\n",
        "}\n",
        "\n",
        "    </script>\n",
        "'''"
      ],
      "metadata": {
        "id": "ID_GxNQXT-aZ"
      },
      "execution_count": 19,
      "outputs": []
    },
    {
      "cell_type": "code",
      "source": [
        "# Import the IPython module\n",
        "import IPython\n",
        "\n",
        "# Define a function to get the index of a user by name\n",
        "def get_user_index(user_name):\n",
        "    # Get the list of users from the Facebook API\n",
        "    users = FBconn.get('/users/', None)\n",
        "    # Iterate over the list of users and check if the name matches\n",
        "    for i, user in enumerate(users):\n",
        "        if user['name'] == user_name:\n",
        "            # Return the index of the user if a match is found\n",
        "            return i\n",
        "    # Return None if no match is found\n",
        "    return None\n",
        "\n",
        "# Get the list of users and their scores from the Facebook API\n",
        "users = FBconn.get('/users/', None)\n",
        "# Create a dictionary of user names and scores using a dictionary comprehension\n",
        "list_of_scores = {user['name']: user['total_score'] for user in users}\n",
        "# Sort the dictionary by score in descending order using the sorted() function and a lambda function as the key argument\n",
        "sorted_list_of_scores = dict(reversed(sorted(list_of_scores.items(), key=lambda item: item[1])))\n",
        "\n",
        "# Get the index of a user named \"Sarah Miller\" using the get_user_index() function\n",
        "user_index = get_user_index(\"Sarah Miller\")\n",
        "if user_index is None:\n",
        "    # Handle case where user is not found\n",
        "    pass\n",
        "\n",
        "# Get the history of the user at the obtained index from the Facebook API\n",
        "history = FBconn.get(f'/users/{user_index}/history/', None)\n",
        "# Create a dictionary of question IDs and answers using a dictionary comprehension\n",
        "list_of_history = {item['question_id']: item['is_correct'] for item in history}\n",
        "\n",
        "# Create an HTML table for the leaderboard using f-strings and a list comprehension\n",
        "table_html = f'''\n",
        "<table class=\"leaderboard\">\n",
        "    <tr>\n",
        "        <th>Rank</th>\n",
        "        <th>Name</th>\n",
        "        <th>Score</th>\n",
        "    </tr>\n",
        "    {''.join(f'<tr><td>{i+1}</td><td>{user[0]}</td><td>{user[1]}</td></tr>' for i, user in enumerate(sorted_list_of_scores.items()))}\n",
        "</table>\n",
        "'''\n",
        "\n",
        "# Create an HTML table for the history using f-strings and a list comprehension\n",
        "table_html2 = f'''\n",
        "<table class=\"history\">\n",
        "    <tr>\n",
        "        <th>Question Number</th>\n",
        "        <th>Answered</th>\n",
        "    </tr>\n",
        "    {''.join(f'<tr><td>{item[0]}</td><td>{item[1]}</td></tr>' for item in list_of_history.items())}\n",
        "</table>\n",
        "'''\n",
        "\n",
        "# Define a string containing the HTML, CSS, and JavaScript code to display the tables in tabs, add a background image to the body, and format the tables using CSS styles\n",
        "html_code = f'''\n",
        "<!DOCTYPE html>\n",
        "<html>\n",
        "<head>\n",
        "    <title>End Game</title>\n",
        "    <style>\n",
        "        .tab {{\n",
        "            {tabCSS}\n",
        "        }}\n",
        "        .tabcontent {{\n",
        "            {tabContentCSS}\n",
        "        }}\n",
        "        .tab:hover {{\n",
        "            {tabActiveCSS}\n",
        "        }}\n",
        "        .tab-container {{\n",
        "            {tab_containerCSS}\n",
        "        }}\n",
        "        @keyframes fadeEffect {{\n",
        "            {fadeEffectCSS}\n",
        "        }}\n",
        "        .container {{\n",
        "            {container}\n",
        "        }}\n",
        "        .leaderboard {{\n",
        "            {tableCSS}\n",
        "        }}\n",
        "        .leaderboard th {{\n",
        "            {trCSS}\n",
        "        }}\n",
        "        .leaderboard td {{\n",
        "            {tdCSS}\n",
        "        }}\n",
        "        .history {{\n",
        "            {tableCSS}\n",
        "        }}\n",
        "        .history th {{\n",
        "            {trCSS}\n",
        "        }}\n",
        "        .history td {{\n",
        "            {tdCSS}\n",
        "        }}\n",
        "        .tracking-in-expand {{\n",
        "            animation: tracking-in-expand 2s cubic-bezier(.215, .61, .355, 1.000) both;\n",
        "        }}\n",
        "        @keyframes tracking-in-expand {{\n",
        "            0% {{\n",
        "                letter-spacing: -.5em;\n",
        "                opacity: 0;\n",
        "            }}\n",
        "            40% {{\n",
        "                opacity: .6;\n",
        "            }}\n",
        "            100% {{\n",
        "                opacity: 1;\n",
        "            }}\n",
        "        }}\n",
        "    </style>\n",
        "    <style>\n",
        "        body {{\n",
        "            background-image: url(https://w0.peakpx.com/wallpaper/76/395/HD-wallpaper-video-game-genshin-impact-cloud.jpg);\n",
        "            background-size: cover;\n",
        "        }}\n",
        "        img {{\n",
        "            width: 10px;\n",
        "            height: 10px;\n",
        "            float: left;\n",
        "        }}\n",
        "    </style>\n",
        "    {tabFunctions}\n",
        "</head>\n",
        "<body class=\"body\" style=\"{bodyCSS}\">\n",
        "    <div class=\"container\">\n",
        "        <h1 class=\"tracking-in-expand\" style=\"{h1CSS}\">End Game</h1>\n",
        "        <div class=\"tab-container\">\n",
        "            <button class=\"tab\" onclick=\"openTab(event, 'Table1')\">Leaderboard</button>\n",
        "            <button class=\"tab\" onclick=\"openTab(event, 'Table2')\">My History</button>\n",
        "        </div>\n",
        "        <div id=\"Table1\" class=\"tabcontent\" style=\"display:block;\">\n",
        "            {table_html}\n",
        "        </div>\n",
        "        <div id=\"Table2\" class=\"tabcontent\">\n",
        "            {table_html2}\n",
        "        </div>\n",
        "        <button class=\"play-again-button\" style=\"{buttonCSS}\" onmouseover=\"this.style.backgroundColor='#3e8e41'\" onmouseout=\"this.style.backgroundColor='#4CAF50'\" onclick=\"window.location.href='index.html'\">Play Again</button>\n",
        "    </div>\n",
        "</body>\n",
        "</html>\n",
        "'''\n",
        "\n",
        "\n",
        "display(IPython.display.HTML(html_code))\n"
      ],
      "metadata": {
        "colab": {
          "base_uri": "https://localhost:8080/",
          "height": 573
        },
        "outputId": "1d99bdc4-a71a-4972-9c4d-52bff9914f58",
        "id": "qplCo_1DTZSC"
      },
      "execution_count": 42,
      "outputs": [
        {
          "output_type": "display_data",
          "data": {
            "text/plain": [
              "<IPython.core.display.HTML object>"
            ],
            "text/html": [
              "\n",
              "<!DOCTYPE html>\n",
              "<html>\n",
              "<head>\n",
              "    <title>End Game</title>\n",
              "    <style>\n",
              "        .tab {\n",
              "            display: inline-block; background-color: #f1f1f1; border: none; outline: none; cursor: pointer; padding: 14px 16px; transition: 0.3s; font-size: 17px; display:flex;\n",
              "        }\n",
              "        .tabcontent {\n",
              "            display: none; padding: 6px 12px; border-top: none; animation: fadeEffect 1s;\n",
              "        }\n",
              "        .tab:hover {\n",
              "            background-color: #ccc;\n",
              "        }\n",
              "        .tab-container {\n",
              "            display: flex;justify-content: center; gap:3px;\n",
              "        }\n",
              "        @keyframes fadeEffect {\n",
              "            @keyframes fadeEffect {from {opacity: 0;}to {opacity: 1;}}\n",
              "        }\n",
              "        .container {\n",
              "            margin: 0 auto; max-width: 800px; padding: 20px;\n",
              "        }\n",
              "        .leaderboard {\n",
              "            border-collapse: collapse;width: 50%;text-align: center;margin: 20px auto;border-radius: 10px;overflow: hidden;box-shadow: 0 0 20px rgba(0, 0, 0, 0.15);background-color: #2F2F2F;\n",
              "        }\n",
              "        .leaderboard th {\n",
              "            background-color: #4CAF50;color: black;padding: 10px 20px;text-align: center;\n",
              "        }\n",
              "        .leaderboard td {\n",
              "            border-bottom: 1px solid #ddd; padding: 10px 20px; width: auto; font-size:18px; text-align:center; color:white;\n",
              "        }\n",
              "        .history {\n",
              "            border-collapse: collapse;width: 50%;text-align: center;margin: 20px auto;border-radius: 10px;overflow: hidden;box-shadow: 0 0 20px rgba(0, 0, 0, 0.15);background-color: #2F2F2F;\n",
              "        }\n",
              "        .history th {\n",
              "            background-color: #4CAF50;color: black;padding: 10px 20px;text-align: center;\n",
              "        }\n",
              "        .history td {\n",
              "            border-bottom: 1px solid #ddd; padding: 10px 20px; width: auto; font-size:18px; text-align:center; color:white;\n",
              "        }\n",
              "        .tracking-in-expand {\n",
              "            animation: tracking-in-expand 2s cubic-bezier(.215, .61, .355, 1.000) both;\n",
              "        }\n",
              "        @keyframes tracking-in-expand {\n",
              "            0% {\n",
              "                letter-spacing: -.5em;\n",
              "                opacity: 0;\n",
              "            }\n",
              "            40% {\n",
              "                opacity: .6;\n",
              "            }\n",
              "            100% {\n",
              "                opacity: 1;\n",
              "            }\n",
              "        }\n",
              "    </style>\n",
              "    <style>\n",
              "        body {\n",
              "            background-image: url(https://w0.peakpx.com/wallpaper/76/395/HD-wallpaper-video-game-genshin-impact-cloud.jpg);\n",
              "            background-size: cover;\n",
              "        }\n",
              "        img {\n",
              "            width: 10px;\n",
              "            height: 10px;\n",
              "            float: left;\n",
              "        }\n",
              "    </style>\n",
              "    \n",
              "    <script>\n",
              "        function openTab(evt, tabName) {\n",
              "  // Declare all variables\n",
              "  var i, tabcontent, tablinks;\n",
              "\n",
              "  // Get all elements with class=\"tabcontent\" and hide them\n",
              "  tabcontent = document.getElementsByClassName(\"tabcontent\");\n",
              "  for (i = 0; i < tabcontent.length; i++) {\n",
              "    tabcontent[i].style.display = \"none\";\n",
              "  }\n",
              "\n",
              "  // Get all elements with class=\"tab\" and remove the class \"active\"\n",
              "  tablinks = document.getElementsByClassName(\"tab\");\n",
              "  for (i = 0; i < tablinks.length; i++) {\n",
              "    tablinks[i].className = tablinks[i].className.replace(\" active\", \"\");\n",
              "    tablinks[i].style.backgroundColor = \"#f1f1f1\"; // Reset the background color for all tab buttons\n",
              "  }\n",
              "\n",
              "  // Show the current tab, and add an \"active\" class to the button that opened the tab\n",
              "  document.getElementById(tabName).style.display = \"block\";\n",
              "  evt.currentTarget.className += \" active\";\n",
              "  evt.currentTarget.style.backgroundColor = \"#ccc\"; // Set the background color for the active tab button\n",
              "}\n",
              "\n",
              "    </script>\n",
              "\n",
              "</head>\n",
              "<body class=\"body\" style=\"background-color: url(https://w0.peakpx.com/wallpaper/5/430/HD-wallpaper-video-game-eastward-sky-cloud.jpg);font-family: Arial, sans-serif;font-size: 1rem;line-height: 1.5;margin: 0;padding: 0;background-size: cover\">\n",
              "    <div class=\"container\">\n",
              "        <h1 class=\"tracking-in-expand\" style=\"color: #FFFFFF;font-size: 2.5rem;margin-bottom: 1em;text-align: center;font-weight: bold; letter-spacing: 3px;\">End Game</h1>\n",
              "        <div class=\"tab-container\">\n",
              "            <button class=\"tab\" onclick=\"openTab(event, 'Table1')\">Leaderboard</button>\n",
              "            <button class=\"tab\" onclick=\"openTab(event, 'Table2')\">My History</button>\n",
              "        </div>\n",
              "        <div id=\"Table1\" class=\"tabcontent\" style=\"display:block;\">\n",
              "            \n",
              "<table class=\"leaderboard\">\n",
              "    <tr>\n",
              "        <th>Rank</th>\n",
              "        <th>Name</th>\n",
              "        <th>Score</th>\n",
              "    </tr>\n",
              "    <tr><td>1</td><td>Rachel Levy</td><td>90</td></tr><tr><td>2</td><td>Sarah Miller</td><td>85</td></tr><tr><td>3</td><td>David Cohen</td><td>75</td></tr><tr><td>4</td><td>Daniel Goldstein</td><td>65</td></tr>\n",
              "</table>\n",
              "\n",
              "        </div>\n",
              "        <div id=\"Table2\" class=\"tabcontent\">\n",
              "            \n",
              "<table class=\"history\">\n",
              "    <tr>\n",
              "        <th>Question Number</th>\n",
              "        <th>Answered</th>\n",
              "    </tr>\n",
              "    <tr><td>question1</td><td>True</td></tr><tr><td>question3</td><td>True</td></tr><tr><td>question4</td><td>True</td></tr><tr><td>question5</td><td>False</td></tr><tr><td>question9</td><td>True</td></tr>\n",
              "</table>\n",
              "\n",
              "        </div>\n",
              "        <button class=\"play-again-button\" style=\"background-color: #4CAF50;border: none;color: white;padding: 15px 32px;text-align: center;text-decoration: none;display: block;font-size: 16px;margin: 20px auto;cursor: pointer;\" onmouseover=\"this.style.backgroundColor='#3e8e41'\" onmouseout=\"this.style.backgroundColor='#4CAF50'\" onclick=\"window.location.href='index.html'\">Play Again</button>\n",
              "    </div>\n",
              "</body>\n",
              "</html>\n"
            ]
          },
          "metadata": {}
        }
      ]
    },
    {
      "cell_type": "code",
      "source": [],
      "metadata": {
        "id": "nx3BzbO5ymTs"
      },
      "execution_count": 5,
      "outputs": []
    },
    {
      "cell_type": "code",
      "source": [],
      "metadata": {
        "id": "sunKcWcvUVZw"
      },
      "execution_count": 5,
      "outputs": []
    }
  ]
}