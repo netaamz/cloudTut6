{
  "nbformat": 4,
  "nbformat_minor": 0,
  "metadata": {
    "colab": {
      "provenance": [],
      "authorship_tag": "ABX9TyMXpF9hCepuiUE4C9U+L/Om",
      "include_colab_link": true
    },
    "kernelspec": {
      "name": "python3",
      "display_name": "Python 3"
    },
    "language_info": {
      "name": "python"
    }
  },
  "cells": [
    {
      "cell_type": "markdown",
      "metadata": {
        "id": "view-in-github",
        "colab_type": "text"
      },
      "source": [
        "<a href=\"https://colab.research.google.com/github/netaamz/cloudTut6/blob/main/pythongame.ipynb\" target=\"_parent\"><img src=\"https://colab.research.google.com/assets/colab-badge.svg\" alt=\"Open In Colab\"/></a>"
      ]
    },
    {
      "cell_type": "markdown",
      "source": [
        "creating the DB with questions and stufrnts"
      ],
      "metadata": {
        "id": "TZxVFHpf051Y"
      }
    },
    {
      "cell_type": "code",
      "source": [
        "!pip install firebase "
      ],
      "metadata": {
        "colab": {
          "base_uri": "https://localhost:8080/"
        },
        "id": "5-rk1Qdz2aFf",
        "outputId": "6dbbd99e-3b64-4664-e532-814c40761c73"
      },
      "execution_count": null,
      "outputs": [
        {
          "output_type": "stream",
          "name": "stdout",
          "text": [
            "Looking in indexes: https://pypi.org/simple, https://us-python.pkg.dev/colab-wheels/public/simple/\n",
            "Collecting firebase\n",
            "  Downloading firebase-4.0.1-py3-none-any.whl (12 kB)\n",
            "Requirement already satisfied: requests in /usr/local/lib/python3.10/dist-packages (from firebase) (2.27.1)\n",
            "Requirement already satisfied: urllib3<1.27,>=1.21.1 in /usr/local/lib/python3.10/dist-packages (from requests->firebase) (1.26.15)\n",
            "Requirement already satisfied: certifi>=2017.4.17 in /usr/local/lib/python3.10/dist-packages (from requests->firebase) (2022.12.7)\n",
            "Requirement already satisfied: charset-normalizer~=2.0.0 in /usr/local/lib/python3.10/dist-packages (from requests->firebase) (2.0.12)\n",
            "Requirement already satisfied: idna<4,>=2.5 in /usr/local/lib/python3.10/dist-packages (from requests->firebase) (3.4)\n",
            "Installing collected packages: firebase\n",
            "Successfully installed firebase-4.0.1\n"
          ]
        }
      ]
    },
    {
      "cell_type": "markdown",
      "source": [
        "insert questions"
      ],
      "metadata": {
        "id": "p937FoX631qM"
      }
    },
    {
      "cell_type": "code",
      "execution_count": null,
      "metadata": {
        "id": "XP_1bpfX0T6_"
      },
      "outputs": [],
      "source": [
        "from firebase import firebase\n",
        "import firebase_admin\n",
        "\n",
        "from firebase_admin import db\n",
        "import json\n",
        "\n",
        "\n",
        "# Initialize the app with the service account credentials\n",
        "FBconn = firebase.FirebaseApplication('https://pythongame-a4fc4-default-rtdb.firebaseio.com',None)\n",
        "\n",
        "\n",
        "# Define the questions in a dictionary with a level field\n",
        "questions = {\n",
        "    \"question1\": {\n",
        "        \"level\": 1,\n",
        "        \"question\": \"What is the keyword used to define a function in Python?\",\n",
        "        \"answers\": [\"def\", \"func\", \"define\", \"function\"],\n",
        "        \"correct_answer\": \"def\"\n",
        "    },\n",
        "    \"question2\": {\n",
        "        \"level\": 1,\n",
        "        \"question\": \"Which of the following is a data type in Python?\",\n",
        "        \"answers\": [\"Integer\", \"String\", \"Boolean\", \"All of the above\"],\n",
        "        \"correct_answer\": \"All of the above\"\n",
        "    },\n",
        "    \"question3\": {\n",
        "        \"level\": 2,\n",
        "        \"question\": \"What is the result of 2 + 3 * 4?\",\n",
        "        \"answers\": [\"20\", \"14\", \"24\", \"18\"],\n",
        "        \"correct_answer\": \"14\"\n",
        "    },\n",
        "    \"question4\": {\n",
        "        \"level\": 2,\n",
        "        \"question\": \"Which of the following is NOT a Python built-in data type?\",\n",
        "        \"answers\": [\"List\", \"Tuple\", \"Dictionary\", \"Stack\"],\n",
        "        \"correct_answer\": \"Stack\"\n",
        "    },\n",
        "    \"question5\": {\n",
        "        \"level\": 3,\n",
        "        \"question\": \"What is the output of the following code? print('Hello', 'world!', sep='')\",\n",
        "        \"answers\": [\"Hello, world!\", \"Hello world!\", \"Helloworld!\", \"None of the above\"],\n",
        "        \"correct_answer\": \"Helloworld!\"\n",
        "    },\n",
        "    \"question6\": {\n",
        "        \"level\": 3,\n",
        "        \"question\": \"What is the correct syntax for a for loop in Python?\",\n",
        "        \"answers\": [\"for i in range(10):\", \"for i = 0 to 9:\", \"for i in 1...10:\", \"for i = 1 until 10:\"],\n",
        "        \"correct_answer\": \"for i in range(10):\"\n",
        "    },\n",
        "    \"question7\": {\n",
        "        \"level\": 4,\n",
        "        \"question\": \"What is the output of the following code? print(5 == '5')\",\n",
        "        \"answers\": [\"True\", \"False\", \"TypeError\", \"SyntaxError\"],\n",
        "        \"correct_answer\": \"False\"\n",
        "    },\n",
        "    \"question8\": {\n",
        "        \"level\": 4,\n",
        "        \"question\": \"What is the keyword used to indicate the end of a loop in Python?\",\n",
        "        \"answers\": [\"break\", \"exit\", \"continue\", \"end\"],\n",
        "        \"correct_answer\": \"break\"\n",
        "    },\n",
        "    \"question9\": {\n",
        "        \"level\": 5,\n",
        "        \"question\": \"Which of the following is a valid way to define a list in Python?\",\n",
        "        \"answers\": [\"list1 = [1, 2, 3]\", \"list2 = (1, 2, 3)\", \"list3 = {1, 2, 3}\", \"list4 = '123'\"],\n",
        "        \"correct_answer\": \"list1 = [1, 2, 3]\"\n",
        "    },\n",
        "    \"question10\": {\n",
        "        \"level\": 3,\n",
        "        \"question\": \"What is the output of the following code? print(len('Python'))\",\n",
        "        \"answers\": [\"5\", \"6\", \"7\", \"None of the above\"],\n",
        "        \"correct_answer\": \"6\"\n",
        "    }\n",
        "}\n",
        "result= FBconn.post('/python_questions/',questions)\n",
        "# Push the questions dictionary to the Firebase database\n",
        "#ref = db.reference('python_questions')\n",
        "#ref.set(questions)"
      ]
    },
    {
      "cell_type": "markdown",
      "source": [
        "insert students "
      ],
      "metadata": {
        "id": "Nc9ofy9_05Fd"
      }
    },
    {
      "cell_type": "code",
      "source": [
        "from firebase import firebase\n",
        "import firebase_admin\n",
        "\n",
        "from firebase_admin import db\n",
        "import json\n",
        "\n",
        "\n",
        "# Initialize the app with the service account credentials\n",
        "FBconn = firebase.FirebaseApplication('https://pythongame-a4fc4-default-rtdb.firebaseio.com',None)\n",
        "\n",
        "students = [\n",
        "    {\n",
        "        \"id\": \"5678\",\n",
        "        \"name\": \"Sarah Miller\",\n",
        "        \"email\": \"sarah.miller@example.com\",\n",
        "        \"total_score\": 85,\n",
        "        \"level\": 3,\n",
        "        \"history\": [\n",
        "            {\n",
        "                \"question_id\": \"question1\",\n",
        "                \"is_correct\": True\n",
        "            },\n",
        "            {\n",
        "                \"question_id\": \"question3\",\n",
        "                \"is_correct\": True\n",
        "            },\n",
        "            {\n",
        "                \"question_id\": \"question4\",\n",
        "                \"is_correct\": True\n",
        "            },\n",
        "            {\n",
        "                \"question_id\": \"question5\",\n",
        "                \"is_correct\": False\n",
        "            },\n",
        "            {\n",
        "                \"question_id\": \"question9\",\n",
        "                \"is_correct\": True\n",
        "            }\n",
        "        ]\n",
        "    },\n",
        "    {\n",
        "        \"id\": \"9012\",\n",
        "        \"name\": \"David Cohen\",\n",
        "        \"email\": \"david.cohen@example.com\",\n",
        "        \"total_score\": 75,\n",
        "        \"level\": 2,\n",
        "        \"history\": [\n",
        "            {\n",
        "                \"question_id\": \"question2\",\n",
        "                \"is_correct\": False\n",
        "            },\n",
        "            {\n",
        "                \"question_id\": \"question3\",\n",
        "                \"is_correct\": True\n",
        "            },\n",
        "            {\n",
        "                \"question_id\": \"question4\",\n",
        "                \"is_correct\": True\n",
        "            },\n",
        "            {\n",
        "                \"question_id\": \"question6\",\n",
        "                \"is_correct\": False\n",
        "            },\n",
        "            {\n",
        "                \"question_id\": \"question10\",\n",
        "                \"is_correct\": False\n",
        "            }\n",
        "        ]\n",
        "    },\n",
        "    {\n",
        "        \"id\": \"3456\",\n",
        "        \"name\": \"Rachel Levy\",\n",
        "        \"email\": \"rachel.levy@example.com\",\n",
        "        \"total_score\": 90,\n",
        "        \"level\": 3,\n",
        "        \"history\": [\n",
        "            {\n",
        "                \"question_id\": \"question1\",\n",
        "                \"is_correct\": True\n",
        "            },\n",
        "            {\n",
        "                \"question_id\": \"question2\",\n",
        "                \"is_correct\": False\n",
        "            },\n",
        "            {\n",
        "                \"question_id\": \"question3\",\n",
        "                \"is_correct\": True\n",
        "            },\n",
        "            {\n",
        "                \"question_id\": \"question5\",\n",
        "                \"is_correct\": True\n",
        "            },\n",
        "            {\n",
        "                \"question_id\": \"question7\",\n",
        "                \"is_correct\": True\n",
        "            }\n",
        "        ]\n",
        "    },\n",
        "    {\n",
        "        \"id\": \"7890\",\n",
        "        \"name\": \"Daniel Goldstein\",\n",
        "        \"email\": \"daniel.goldstein@example.com\",\n",
        "        \"total_score\": 65,\n",
        "        \"level\": 1,\n",
        "        \"history\": [\n",
        "            {\n",
        "                \"question_id\": \"question2\",\n",
        "                \"is_correct\": False\n",
        "            },\n",
        "            {\n",
        "                \"question_id\": \"question4\",\n",
        "                \"is_correct\": False\n",
        "            },\n",
        "            {\n",
        "                \"question_id\": \"question6\",\n",
        "                \"is_correct\": True\n",
        "            },\n",
        "            {\n",
        "                \"question_id\": \"question7\",\n",
        "                \"is_correct\": False\n",
        "            },\n",
        "            {\n",
        "                \"question_id\": \"question10\",\n",
        "                \"is_correct\": False\n",
        "            }\n",
        "        ]\n",
        "    }\n",
        "]\n",
        "result= FBconn.post('/users/',students)\n",
        "# Push the questions dictionary to the Firebase database\n",
        "#ref = db.reference('python_questions')\n",
        "#ref.set(questions)"
      ],
      "metadata": {
        "id": "vmBxqzRA38da"
      },
      "execution_count": null,
      "outputs": []
    },
    {
      "cell_type": "code",
      "source": [],
      "metadata": {
        "id": "m3TfGexF81mw"
      },
      "execution_count": null,
      "outputs": []
    }
  ]
}